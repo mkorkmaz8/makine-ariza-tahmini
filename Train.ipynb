{
 "cells": [
  {
   "cell_type": "code",
   "execution_count": 1,
   "id": "3855e686-e165-40ed-af8b-aa23a2bc76ac",
   "metadata": {},
   "outputs": [],
   "source": [
    "from scipy.stats import pointbiserialr\n",
    "from catboost import CatBoostClassifier\n",
    "from sklearn.metrics import confusion_matrix, classification_report\n",
    "import joblib\n",
    "import pandas as pd\n",
    "import numpy as np\n",
    "import seaborn as sns\n",
    "import matplotlib.pyplot as plt\n",
    "from sklearn.model_selection import train_test_split\n",
    "from sklearn.ensemble import RandomForestClassifier\n",
    "from sklearn.metrics import classification_report, confusion_matrix\n",
    "from xgboost import XGBClassifier\n",
    "from imblearn.over_sampling import SMOTE \n",
    "from sklearn.ensemble import RandomForestClassifier\n",
    "from sklearn.neural_network import MLPClassifier\n",
    "from sklearn.metrics import classification_report, confusion_matrix, precision_recall_curve\n",
    "from sklearn.preprocessing import StandardScaler\n",
    "from xgboost import XGBClassifier\n",
    "import numpy as np\n",
    "from sklearn.metrics import f1_score"
   ]
  },
  {
   "cell_type": "code",
   "execution_count": 2,
   "id": "fab87182-3f84-4bb4-9b92-420fa1bfb56f",
   "metadata": {},
   "outputs": [],
   "source": [
    "#  ^ VERİ YÜKLEME ^\n",
    "# Veri incelendi. Fail_Occurrence = 1 olan kayıtlar özellikle incelendi,\n",
    "# bu kayıtlar ile Fail_Occurrence = 0 olan kayıtlar karşılaştırıldı.\n",
    "# Bu karşılaştırma sonucunda önemli olabilecek özellikler (feature selection) seçildi."
   ]
  },
  {
   "cell_type": "code",
   "execution_count": 3,
   "id": "adf45ada-0134-447c-9405-ef41db15d6fd",
   "metadata": {},
   "outputs": [],
   "source": [
    "use_cols = ['Timestamp', 'Machine_ID', 'Machine_Type', 'Failure_Occurrence',\n",
    "            'Idle_Time_Duration', 'Component_Health_Score', 'Oil_Viscosity',\n",
    "            'RUL', 'Lighting_Condition', 'Energy_Efficiency_Index',\n",
    "            'Ventilation_Level', 'Ambient_Temperature',\n",
    "            'Operational_Mode', 'Job_Code', 'Maintenance_Frequency','Voltage_Phase_A','Maintenance_Personnel_ID',\n",
    "            'Maintenance_Type_Label', 'Replaced_Components_List','Maintenance_Type',\n",
    "            'Shift_Code', 'Operator_ID', 'Machine_Location_Zone','Power_Consumption',\n",
    "            'Last_Maintenance_Date','Peak_Vibration','Communication_Latency','Nearby_Machine_Load','Alarm_Count_24hr','Data_Packet_Loss_Percent']\n",
    "\n",
    "df = pd.read_csv(\"RealTime_IoT_PredictiveMaintenance_Dataset.csv\", usecols=use_cols)"
   ]
  },
  {
   "cell_type": "code",
   "execution_count": 4,
   "id": "38957d04-dd03-4aeb-a200-bbdea8467dc0",
   "metadata": {},
   "outputs": [],
   "source": [
    "# ^ PENCERELEME ^"
   ]
  },
  {
   "cell_type": "code",
   "execution_count": 5,
   "id": "631215b2-3bf5-4999-b221-d32794627838",
   "metadata": {},
   "outputs": [],
   "source": [
    "df['Timestamp'] = pd.to_datetime(df['Timestamp'])  # Zaman damgaları datetime formatına çevrilir\n",
    "df['Hour'] = df['Timestamp'].dt.floor('12H')  # 12 saatlik zaman pencerelerine yuvarlama yapılır (bu yöntem deneysel olarak iyi sonuç vermiştir)\n",
    "df['Machine_Unique'] = df['Machine_ID'].astype(str) + '_' + df['Machine_Type']  # Her makine için benzersiz kimlik oluşturulur"
   ]
  },
  {
   "cell_type": "code",
   "execution_count": 6,
   "id": "487c09dc-dee2-4041-8e61-514ffbe08b3c",
   "metadata": {},
   "outputs": [],
   "source": [
    "# ^ SÜTUNLARIN AYRILMASI ^"
   ]
  },
  {
   "cell_type": "code",
   "execution_count": 7,
   "id": "15cfe7c8-8446-46b0-9ee1-2fbf293fe3f3",
   "metadata": {},
   "outputs": [],
   "source": [
    "numeric_cols = [\n",
    "    'Oil_Viscosity', 'Power_Consumption', 'Energy_Efficiency_Index','Voltage_Phase_A',\n",
    "    'Idle_Time_Duration', 'Component_Health_Score', 'Ambient_Temperature',\n",
    "    'Lighting_Condition', 'Ventilation_Level', 'RUL','Peak_Vibration','Communication_Latency','Nearby_Machine_Load','Alarm_Count_24hr','Data_Packet_Loss_Percent'\n",
    "]\n",
    "\n",
    "categorical_cols = [\n",
    "    'Operational_Mode', 'Job_Code', 'Maintenance_Frequency','Maintenance_Personnel_ID',\n",
    "    'Maintenance_Type_Label', 'Replaced_Components_List', 'Shift_Code',\n",
    "    'Operator_ID', 'Machine_Location_Zone','Maintenance_Type'\n",
    "]"
   ]
  },
  {
   "cell_type": "code",
   "execution_count": 8,
   "id": "51f1705b-30ab-4825-b620-32b00b289d82",
   "metadata": {},
   "outputs": [],
   "source": [
    "# ^ AGGREGATION ^"
   ]
  },
  {
   "cell_type": "code",
   "execution_count": 9,
   "id": "0a5b5ca6-c39f-4539-b753-eba803975f93",
   "metadata": {},
   "outputs": [],
   "source": [
    "agg_funcs = ['mean', 'median', 'min', 'max']\n",
    "df_numeric = df.groupby(['Machine_Unique', 'Hour'])[numeric_cols].agg(agg_funcs)\n",
    "df_numeric.columns = ['_'.join(col) for col in df_numeric.columns]\n",
    "df_numeric = df_numeric.reset_index()\n",
    "df_failure = df.groupby(['Machine_Unique', 'Hour'])['Failure_Occurrence'].max().reset_index()"
   ]
  },
  {
   "cell_type": "code",
   "execution_count": 10,
   "id": "0dce0afe-8616-44be-bcb4-54d5f870bd58",
   "metadata": {},
   "outputs": [],
   "source": [
    "# ^ FEATURE EXTRACTION ^"
   ]
  },
  {
   "cell_type": "code",
   "execution_count": 11,
   "id": "ed98e725-6e73-41b3-8cbc-4fbf312e52c1",
   "metadata": {},
   "outputs": [],
   "source": [
    "df['Last_Maintenance_Date'] = pd.to_datetime(df['Last_Maintenance_Date'], errors='coerce') # Eğer ki son maintenance tarihi geçmiş ise 1, değilse 0 \n",
    "df_maintenance = df.groupby(['Machine_Unique', 'Hour'])[['Last_Maintenance_Date']].max().reset_index()\n",
    "df_maintenance['Maintenance_Before_Hour'] = (df_maintenance['Last_Maintenance_Date'] < df_maintenance['Hour']).astype(int)\n",
    "df_maintenance = df_maintenance.drop(columns=['Last_Maintenance_Date'])"
   ]
  },
  {
   "cell_type": "code",
   "execution_count": 12,
   "id": "5f96f009-254f-4b4d-98a4-63bbea06da1c",
   "metadata": {},
   "outputs": [],
   "source": [
    "# ^ MERGE ^"
   ]
  },
  {
   "cell_type": "code",
   "execution_count": 13,
   "id": "dc33d29a-2e1b-4e2a-899c-62c43d51031d",
   "metadata": {},
   "outputs": [],
   "source": [
    "merged_df = pd.merge(df_numeric, df_failure, on=['Machine_Unique', 'Hour'])\n",
    "merged_df = pd.merge(merged_df, df_maintenance, on=['Machine_Unique', 'Hour'])"
   ]
  },
  {
   "cell_type": "code",
   "execution_count": 14,
   "id": "d4d38c69-cd88-4cf4-ae72-d14d43daaf6b",
   "metadata": {},
   "outputs": [],
   "source": [
    "# ^ KORELASYON HESABI ^"
   ]
  },
  {
   "cell_type": "code",
   "execution_count": 15,
   "id": "ce61d440-0693-4897-bf39-2b53848ad1bc",
   "metadata": {},
   "outputs": [
    {
     "name": "stdout",
     "output_type": "stream",
     "text": [
      "Failure_Occurrence ile en yüksek 20 korelasyon:\n",
      "Alarm_Count_24hr_max            0.416025\n",
      "Voltage_Phase_A_max             0.414161\n",
      "Power_Consumption_min          -0.413841\n",
      "Nearby_Machine_Load_max         0.412925\n",
      "Energy_Efficiency_Index_max     0.411379\n",
      "Oil_Viscosity_max               0.409890\n",
      "RUL_max                         0.409762\n",
      "Idle_Time_Duration_max          0.409564\n",
      "Component_Health_Score_max      0.407822\n",
      "Ventilation_Level_max           0.407243\n",
      "Peak_Vibration_min             -0.406950\n",
      "Ambient_Temperature_max         0.404662\n",
      "Communication_Latency_max       0.404176\n",
      "Lighting_Condition_max          0.403778\n",
      "Data_Packet_Loss_Percent_max    0.403485\n",
      "Alarm_Count_24hr_min           -0.245313\n",
      "Component_Health_Score_min     -0.242346\n",
      "Peak_Vibration_max              0.241104\n",
      "Ambient_Temperature_min        -0.238486\n",
      "RUL_min                        -0.237864\n",
      "dtype: float64\n"
     ]
    }
   ],
   "source": [
    "correlations = {}\n",
    "for col in df_numeric.columns:\n",
    "    if col not in ['Machine_Unique', 'Hour']:\n",
    "        try:\n",
    "            corr, _ = pointbiserialr(merged_df['Failure_Occurrence'], merged_df[col])\n",
    "            correlations[col] = corr\n",
    "        except Exception as e:\n",
    "            print(f\"Hata: {col} için hesaplama yapılamadı. {e}\")\n",
    "\n",
    "# --- 7. İlk 15 korelasyonu yazdır ---\n",
    "top_20_corr = pd.Series(correlations).dropna().reindex(\n",
    "    pd.Series(correlations).abs().sort_values(ascending=False).index\n",
    ").head(20)\n",
    "print(\"Failure_Occurrence ile en yüksek 20 korelasyon:\")\n",
    "print(top_20_corr)"
   ]
  },
  {
   "cell_type": "code",
   "execution_count": 16,
   "id": "27a4afb4-2ccf-4b17-bcec-d379746c15d6",
   "metadata": {},
   "outputs": [],
   "source": [
    "# ^ FEATURE SELECTION ^\n",
    "# Fail_Occurence ile yüksek korelasyona sahip olan (yaklaşık 0.4 civarı) featurelar eğitim için seçildi."
   ]
  },
  {
   "cell_type": "code",
   "execution_count": 17,
   "id": "46cdad1a-a1e2-4bfd-9fc6-57f4e2f6aa6e",
   "metadata": {},
   "outputs": [],
   "source": [
    "features = [\n",
    "    'Alarm_Count_24hr_max',\n",
    "    'Voltage_Phase_A_max',\n",
    "    'Power_Consumption_min',\n",
    "    'Nearby_Machine_Load_max',\n",
    "    'Energy_Efficiency_Index_max',\n",
    "    'Oil_Viscosity_max',\n",
    "    'RUL_max',\n",
    "    'Idle_Time_Duration_max',\n",
    "    'Component_Health_Score_max',\n",
    "    'Ventilation_Level_max',\n",
    "    'Peak_Vibration_min',\n",
    "    'Ambient_Temperature_max',\n",
    "    'Communication_Latency_max',\n",
    "    'Lighting_Condition_max',\n",
    "    'Data_Packet_Loss_Percent_max'\n",
    "]"
   ]
  },
  {
   "cell_type": "code",
   "execution_count": 18,
   "id": "ba5015f7-231a-49b2-b662-1dd9f7934e66",
   "metadata": {},
   "outputs": [],
   "source": [
    "# ^ GEÇMİŞ 6 ZAMAN ADIMINDAN ÖZELLİK MATRİSİ OLUŞTURMA (SLIDING WINDOW) ^\n",
    "# Farklı pencere boyutları (örneğin 3, 6, 12) denenmiş; model performansı ve veri kaybı dengesi göz önünde bulundurularak\n",
    "# 6 zaman adımı (örneğin 72 saat) ile oluşturulan pencere boyutunun en uygun sonuçları verdiği gözlemlenmiştir.\n",
    "# Her bir pencere için geçmiş veriler tek satıra indirgenmiş, ilgili pencerenin hemen sonraki arıza durumu etiketlenmiştir."
   ]
  },
  {
   "cell_type": "code",
   "execution_count": 19,
   "id": "4fc1acdb-0c35-4e5a-8103-4b94b46bcb18",
   "metadata": {},
   "outputs": [],
   "source": [
    "window_size = 6\n",
    "\n",
    "X_windows = []\n",
    "y_labels = []\n",
    "\n",
    "for machine_id, group in merged_df.groupby('Machine_Unique'):\n",
    "    group = group.sort_values('Hour')\n",
    "    values = group[features].values\n",
    "    labels = group['Failure_Occurrence'].values\n",
    "\n",
    "    for i in range(len(group) - window_size):\n",
    "        X_windows.append(values[i:i+window_size].flatten())\n",
    "        y_labels.append(labels[i + window_size])\n",
    "\n",
    "X_sliding = pd.DataFrame(X_windows)\n",
    "y_sliding = pd.Series(y_labels)"
   ]
  },
  {
   "cell_type": "code",
   "execution_count": 20,
   "id": "9da4edb2-c413-4b82-b766-025124f3a7ce",
   "metadata": {},
   "outputs": [],
   "source": [
    "# ^ VERİYİ BÖLME ^"
   ]
  },
  {
   "cell_type": "code",
   "execution_count": 21,
   "id": "750c7a6c-d758-4b5f-959e-fe7457e2d5a5",
   "metadata": {},
   "outputs": [],
   "source": [
    "X_train, X_test, y_train, y_test = train_test_split(\n",
    "    X_sliding, y_sliding, test_size=0.2, stratify=y_sliding, random_state=50\n",
    ")"
   ]
  },
  {
   "cell_type": "code",
   "execution_count": 22,
   "id": "b2268ce2-7502-4c8d-8e12-d516cce7eca3",
   "metadata": {},
   "outputs": [],
   "source": [
    "# ^ SMOTE ^\n",
    "# Fail_Occurence=1 olan durumların az olduğu gözlemlendi ve veride dengesizlik olduğu anlaşıldı.\n",
    "# Bu yüzden SMOTE ile eğitim seti için sentetik veri oluşturuldu"
   ]
  },
  {
   "cell_type": "code",
   "execution_count": 23,
   "id": "ec53451c-1a21-433b-a25d-c62dda3e6214",
   "metadata": {},
   "outputs": [],
   "source": [
    "smote = SMOTE(random_state=50)\n",
    "X_train_res, y_train_res = smote.fit_resample(X_train, y_train)"
   ]
  },
  {
   "cell_type": "code",
   "execution_count": 26,
   "id": "520e47fb-30f2-419c-80bc-6bedbc8920f6",
   "metadata": {},
   "outputs": [],
   "source": [
    "# ^ RANDOM FOREST MODELİ ^"
   ]
  },
  {
   "cell_type": "code",
   "execution_count": 27,
   "id": "2d4e8e8a-bbb2-4acf-856b-4163cd07d03a",
   "metadata": {},
   "outputs": [
    {
     "name": "stdout",
     "output_type": "stream",
     "text": [
      "\n",
      "📘 Random Forest - Eğitim Verisi Sonuçları:\n",
      "[[8951 1656]\n",
      " [2812 7795]]\n",
      "              precision    recall  f1-score   support\n",
      "\n",
      "           0      0.761     0.844     0.800     10607\n",
      "           1      0.825     0.735     0.777     10607\n",
      "\n",
      "    accuracy                          0.789     21214\n",
      "   macro avg      0.793     0.789     0.789     21214\n",
      "weighted avg      0.793     0.789     0.789     21214\n",
      "\n"
     ]
    },
    {
     "data": {
      "text/plain": [
       "['rf_model_v1.joblib']"
      ]
     },
     "execution_count": 27,
     "metadata": {},
     "output_type": "execute_result"
    }
   ],
   "source": [
    "rf = RandomForestClassifier(max_depth=7, n_estimators=100, class_weight='balanced', random_state=42)\n",
    "rf.fit(X_train_res, y_train_res)\n",
    "\n",
    "y_train_proba_rf = rf.predict_proba(X_train_res)[:, 1]\n",
    "\n",
    "y_train_pred_rf = (y_train_proba_rf >= 0.5).astype(int)\n",
    "print(\"\\n📘 Random Forest - Eğitim Verisi Sonuçları:\")\n",
    "print(confusion_matrix(y_train_res, y_train_pred_rf))\n",
    "print(classification_report(y_train_res, y_train_pred_rf, digits=3))\n",
    "\n",
    "joblib.dump(rf, \"rf_model_v1.joblib\")"
   ]
  },
  {
   "cell_type": "code",
   "execution_count": 28,
   "id": "80494ba1-41e1-4207-bf19-ca07eee4d80a",
   "metadata": {},
   "outputs": [],
   "source": [
    "# ^ XGBOOST MODELİ ^"
   ]
  },
  {
   "cell_type": "code",
   "execution_count": 29,
   "id": "4af46ab6-702d-4139-98f5-f78f071c3fba",
   "metadata": {},
   "outputs": [
    {
     "name": "stderr",
     "output_type": "stream",
     "text": [
      "C:\\Users\\melike\\anaconda\\Lib\\site-packages\\xgboost\\training.py:183: UserWarning: [12:44:51] WARNING: C:\\actions-runner\\_work\\xgboost\\xgboost\\src\\learner.cc:738: \n",
      "Parameters: { \"use_label_encoder\" } are not used.\n",
      "\n",
      "  bst.update(dtrain, iteration=i, fobj=obj)\n"
     ]
    },
    {
     "name": "stdout",
     "output_type": "stream",
     "text": [
      "\n",
      "📘 XGBoost - Eğitim Verisi Sonuçları:\n",
      "[[9039 1568]\n",
      " [2830 7777]]\n",
      "              precision    recall  f1-score   support\n",
      "\n",
      "           0      0.762     0.852     0.804     10607\n",
      "           1      0.832     0.733     0.780     10607\n",
      "\n",
      "    accuracy                          0.793     21214\n",
      "   macro avg      0.797     0.793     0.792     21214\n",
      "weighted avg      0.797     0.793     0.792     21214\n",
      "\n"
     ]
    },
    {
     "data": {
      "text/plain": [
       "['xgb_model_v1.joblib']"
      ]
     },
     "execution_count": 29,
     "metadata": {},
     "output_type": "execute_result"
    }
   ],
   "source": [
    "pos_weight = len(y_train_res[y_train_res == 0]) / len(y_train_res[y_train_res == 1])\n",
    "\n",
    "xgb = XGBClassifier(\n",
    "    n_estimators=400,\n",
    "    max_depth=4,\n",
    "    scale_pos_weight=pos_weight,\n",
    "    use_label_encoder=False,\n",
    "    eval_metric='logloss',\n",
    "    random_state=42,\n",
    "    learning_rate=0.025\n",
    ")\n",
    "xgb.fit(X_train_res, y_train_res)\n",
    "\n",
    "y_train_proba_xgb = xgb.predict_proba(X_train_res)[:, 1]\n",
    "\n",
    "y_train_pred_xgb = (y_train_proba_xgb >= 0.5).astype(int)\n",
    "\n",
    "print(\"\\n📘 XGBoost - Eğitim Verisi Sonuçları:\")\n",
    "print(confusion_matrix(y_train_res, y_train_pred_xgb))\n",
    "print(classification_report(y_train_res, y_train_pred_xgb, digits=3))\n",
    "\n",
    "joblib.dump(xgb, \"xgb_model_v1.joblib\")"
   ]
  },
  {
   "cell_type": "code",
   "execution_count": 30,
   "id": "cfe6eda7-6a11-41e2-b084-1dc706e5e00e",
   "metadata": {},
   "outputs": [],
   "source": [
    "# ^ MLP MODELİ ^"
   ]
  },
  {
   "cell_type": "code",
   "execution_count": 31,
   "id": "403de0a8-6d08-4395-af10-f97749eb94d3",
   "metadata": {},
   "outputs": [
    {
     "name": "stdout",
     "output_type": "stream",
     "text": [
      "\n",
      "📘 MLP - Eğitim Verisi Sonuçları:\n",
      "[[8920 1687]\n",
      " [3255 7352]]\n",
      "              precision    recall  f1-score   support\n",
      "\n",
      "           0      0.733     0.841     0.783     10607\n",
      "           1      0.813     0.693     0.748     10607\n",
      "\n",
      "    accuracy                          0.767     21214\n",
      "   macro avg      0.773     0.767     0.766     21214\n",
      "weighted avg      0.773     0.767     0.766     21214\n",
      "\n"
     ]
    },
    {
     "data": {
      "text/plain": [
       "['scaler.joblib']"
      ]
     },
     "execution_count": 31,
     "metadata": {},
     "output_type": "execute_result"
    }
   ],
   "source": [
    "# --- Standartlaştırıcıyı oluşturup, sadece train verisinde fit et ---\n",
    "scaler = StandardScaler()\n",
    "X_train_res_scaled = scaler.fit_transform(X_train_res)  # sadece train verisi fit edilir\n",
    "\n",
    "# --- MLP Modelini oluştur ve eğit ---\n",
    "mlp = MLPClassifier(\n",
    "    hidden_layer_sizes=(100, 50),\n",
    "    activation='relu',\n",
    "    solver='adam',\n",
    "    max_iter=500,\n",
    "    early_stopping=True,\n",
    "    validation_fraction=0.1,\n",
    "    n_iter_no_change=10,\n",
    "    random_state=42\n",
    ")\n",
    "mlp.fit(X_train_res_scaled, y_train_res)\n",
    "\n",
    "# --- Eğitim verisi üzerinde tahmin ve raporlama ---\n",
    "y_train_proba_mlp = mlp.predict_proba(X_train_res_scaled)[:, 1]\n",
    "y_train_pred_mlp = (y_train_proba_mlp >= 0.5).astype(int)\n",
    "print(\"\\n📘 MLP - Eğitim Verisi Sonuçları:\")\n",
    "print(confusion_matrix(y_train_res, y_train_pred_mlp))\n",
    "print(classification_report(y_train_res, y_train_pred_mlp, digits=3))\n",
    "\n",
    "# --- Modeli ve scaler'ı kaydet ---\n",
    "joblib.dump(mlp, 'mlp_model.joblib')\n",
    "joblib.dump(scaler, 'scaler.joblib')"
   ]
  },
  {
   "cell_type": "code",
   "execution_count": 32,
   "id": "82c60005-7bd4-4039-893b-c0156dd77cbc",
   "metadata": {},
   "outputs": [],
   "source": [
    "# ^ CatBoost Modeli ^"
   ]
  },
  {
   "cell_type": "code",
   "execution_count": 33,
   "id": "f889e0ae-12e2-471c-8b41-fa2251316c3c",
   "metadata": {},
   "outputs": [
    {
     "name": "stdout",
     "output_type": "stream",
     "text": [
      "\n",
      "📘 CatBoost - Eğitim Verisi Sonuçları:\n",
      "[[9338 1269]\n",
      " [2160 8447]]\n",
      "              precision    recall  f1-score   support\n",
      "\n",
      "           0      0.812     0.880     0.845     10607\n",
      "           1      0.869     0.796     0.831     10607\n",
      "\n",
      "    accuracy                          0.838     21214\n",
      "   macro avg      0.841     0.838     0.838     21214\n",
      "weighted avg      0.841     0.838     0.838     21214\n",
      "\n"
     ]
    }
   ],
   "source": [
    "cat_model = CatBoostClassifier(\n",
    "    iterations=500,\n",
    "    depth=6,\n",
    "    learning_rate=0.05,\n",
    "    loss_function='Logloss',\n",
    "    eval_metric='F1',\n",
    "    random_seed=42,\n",
    "    verbose=False\n",
    ")\n",
    "\n",
    "cat_model.fit(X_train_res, y_train_res)\n",
    "\n",
    "y_proba_cat_train = cat_model.predict_proba(X_train_res)[:, 1]\n",
    "y_train_pred_cat = (y_proba_cat_train >= 0.5).astype(int)\n",
    "\n",
    "print(\"\\n📘 CatBoost - Eğitim Verisi Sonuçları:\")\n",
    "print(confusion_matrix(y_train_res, y_train_pred_cat))\n",
    "print(classification_report(y_train_res, y_train_pred_cat, digits=3))\n",
    "\n",
    "# Modeli kaydet (CatBoost kendi model kaydetme metodu var)\n",
    "cat_model.save_model('catboost_model.cbm')"
   ]
  },
  {
   "cell_type": "code",
   "execution_count": null,
   "id": "40cac6ef-6c26-407a-b8cf-e03596bed5a9",
   "metadata": {},
   "outputs": [],
   "source": []
  }
 ],
 "metadata": {
  "kernelspec": {
   "display_name": "Python 3 (ipykernel)",
   "language": "python",
   "name": "python3"
  },
  "language_info": {
   "codemirror_mode": {
    "name": "ipython",
    "version": 3
   },
   "file_extension": ".py",
   "mimetype": "text/x-python",
   "name": "python",
   "nbconvert_exporter": "python",
   "pygments_lexer": "ipython3",
   "version": "3.11.5"
  }
 },
 "nbformat": 4,
 "nbformat_minor": 5
}
