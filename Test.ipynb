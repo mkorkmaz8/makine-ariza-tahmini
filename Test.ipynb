{
 "cells": [
  {
   "cell_type": "code",
   "execution_count": 1,
   "id": "8b8bc73b-4993-4c05-ba53-8fbf6cbb681c",
   "metadata": {},
   "outputs": [],
   "source": [
    "from scipy.stats import pointbiserialr\n",
    "import joblib\n",
    "import pandas as pd\n",
    "from sklearn.model_selection import train_test_split\n",
    "from sklearn.ensemble import RandomForestClassifier\n",
    "from xgboost import XGBClassifier\n",
    "from imblearn.over_sampling import SMOTE \n",
    "from sklearn.neural_network import MLPClassifier\n",
    "from sklearn.metrics import classification_report, confusion_matrix, f1_score\n",
    "from sklearn.preprocessing import StandardScaler\n",
    "import numpy as np"
   ]
  },
  {
   "cell_type": "code",
   "execution_count": 2,
   "id": "42870db4-0147-4dba-86bf-89770a8fcc2f",
   "metadata": {},
   "outputs": [],
   "source": [
    "#  ^ VERİ YÜKLEME ^\n",
    "# Veri incelendi. Fail_Occurrence = 1 olan kayıtlar özellikle incelendi,\n",
    "# bu kayıtlar ile Fail_Occurrence = 0 olan kayıtlar karşılaştırıldı.\n",
    "# Bu karşılaştırma sonucunda önemli olabilecek özellikler (feature selection) seçildi."
   ]
  },
  {
   "cell_type": "code",
   "execution_count": 3,
   "id": "d882dc06-82d5-4709-b359-041fbd359cd8",
   "metadata": {},
   "outputs": [],
   "source": [
    "use_cols = ['Timestamp', 'Machine_ID', 'Machine_Type', 'Failure_Occurrence',\n",
    "            'Idle_Time_Duration', 'Component_Health_Score', 'Oil_Viscosity',\n",
    "            'RUL', 'Lighting_Condition', 'Energy_Efficiency_Index',\n",
    "            'Ventilation_Level', 'Ambient_Temperature',\n",
    "            'Operational_Mode', 'Job_Code', 'Maintenance_Frequency','Voltage_Phase_A','Maintenance_Personnel_ID',\n",
    "            'Maintenance_Type_Label', 'Replaced_Components_List','Maintenance_Type',\n",
    "            'Shift_Code', 'Operator_ID', 'Machine_Location_Zone','Power_Consumption',\n",
    "            'Last_Maintenance_Date','Peak_Vibration','Communication_Latency','Nearby_Machine_Load','Alarm_Count_24hr','Data_Packet_Loss_Percent']\n",
    "\n",
    "df = pd.read_csv(\"RealTime_IoT_PredictiveMaintenance_Dataset.csv\", usecols=use_cols)"
   ]
  },
  {
   "cell_type": "code",
   "execution_count": 4,
   "id": "81fece1b-c339-4004-a906-4ecb9e1d8d92",
   "metadata": {},
   "outputs": [],
   "source": [
    "# ^ PENCERELEME ^"
   ]
  },
  {
   "cell_type": "code",
   "execution_count": 5,
   "id": "8c2d8a3e-250c-437a-9bb4-ce0a02ba746d",
   "metadata": {},
   "outputs": [],
   "source": [
    "df['Timestamp'] = pd.to_datetime(df['Timestamp'])  # Zaman damgaları datetime formatına çevrilir\n",
    "df['Hour'] = df['Timestamp'].dt.floor('12H')  # 12 saatlik zaman pencerelerine yuvarlama yapılır (bu yöntem deneysel olarak iyi sonuç vermiştir)\n",
    "df['Machine_Unique'] = df['Machine_ID'].astype(str) + '_' + df['Machine_Type']  # Her makine için benzersiz kimlik oluşturulur"
   ]
  },
  {
   "cell_type": "code",
   "execution_count": 6,
   "id": "57fc815c-c01a-4c56-8f9a-e3fdf3a58965",
   "metadata": {},
   "outputs": [],
   "source": [
    "# ^ SÜTUNLARIN AYRILMASI ^"
   ]
  },
  {
   "cell_type": "code",
   "execution_count": 7,
   "id": "13c89c1e-d3b2-4c35-8c2f-de70f48951c1",
   "metadata": {},
   "outputs": [],
   "source": [
    "numeric_cols = [\n",
    "    'Oil_Viscosity', 'Power_Consumption', 'Energy_Efficiency_Index','Voltage_Phase_A',\n",
    "    'Idle_Time_Duration', 'Component_Health_Score', 'Ambient_Temperature',\n",
    "    'Lighting_Condition', 'Ventilation_Level', 'RUL','Peak_Vibration','Communication_Latency','Nearby_Machine_Load','Alarm_Count_24hr','Data_Packet_Loss_Percent'\n",
    "]"
   ]
  },
  {
   "cell_type": "code",
   "execution_count": 8,
   "id": "9030795e-27e2-47d1-938c-e895cd6f4585",
   "metadata": {},
   "outputs": [],
   "source": [
    "# ^ AGGREGATION ^"
   ]
  },
  {
   "cell_type": "code",
   "execution_count": 9,
   "id": "221ee6dc-e010-46c7-8fc9-192eb4c2e914",
   "metadata": {},
   "outputs": [],
   "source": [
    "agg_funcs = ['mean', 'median', 'min', 'max']\n",
    "df_numeric = df.groupby(['Machine_Unique', 'Hour'])[numeric_cols].agg(agg_funcs)\n",
    "df_numeric.columns = ['_'.join(col) for col in df_numeric.columns]\n",
    "df_numeric = df_numeric.reset_index()\n",
    "df_failure = df.groupby(['Machine_Unique', 'Hour'])['Failure_Occurrence'].max().reset_index()"
   ]
  },
  {
   "cell_type": "code",
   "execution_count": 10,
   "id": "1cafe819-0bff-4865-855f-125eb8d0b3b5",
   "metadata": {},
   "outputs": [],
   "source": [
    "# ^ FEATURE EXTRACTION ^"
   ]
  },
  {
   "cell_type": "code",
   "execution_count": 11,
   "id": "d25b5f01-4217-4593-b69c-1e121fc2f4df",
   "metadata": {},
   "outputs": [],
   "source": [
    "df['Last_Maintenance_Date'] = pd.to_datetime(df['Last_Maintenance_Date'], errors='coerce') # Eğer ki son maintenance tarihi geçmiş ise 1, değilse 0 \n",
    "df_maintenance = df.groupby(['Machine_Unique', 'Hour'])[['Last_Maintenance_Date']].max().reset_index()\n",
    "df_maintenance['Maintenance_Before_Hour'] = (df_maintenance['Last_Maintenance_Date'] < df_maintenance['Hour']).astype(int)\n",
    "df_maintenance = df_maintenance.drop(columns=['Last_Maintenance_Date'])"
   ]
  },
  {
   "cell_type": "code",
   "execution_count": 12,
   "id": "432ec260-2f55-4b5f-b310-98ab12ae6947",
   "metadata": {},
   "outputs": [],
   "source": [
    "# ^ MERGE ^"
   ]
  },
  {
   "cell_type": "code",
   "execution_count": 13,
   "id": "75f2d24a-943a-4f80-852b-a4fcdd7733ad",
   "metadata": {},
   "outputs": [],
   "source": [
    "merged_df = pd.merge(df_numeric, df_failure, on=['Machine_Unique', 'Hour'])\n",
    "merged_df = pd.merge(merged_df, df_maintenance, on=['Machine_Unique', 'Hour'])"
   ]
  },
  {
   "cell_type": "code",
   "execution_count": 14,
   "id": "f6365c80-6ad8-4a31-891f-2b924a3d3169",
   "metadata": {},
   "outputs": [],
   "source": [
    "# Train dosyasında korelasyon hesaplanmış ve ona göre kullanılacak featurelar seçilmiştir.\n",
    "# ^ FEATURE SELECTION ^\n",
    "# Fail_Occurence ile yüksek korelasyona sahip olan (yaklaşık 0.4 civarı) featurelar eğitim için seçildi."
   ]
  },
  {
   "cell_type": "code",
   "execution_count": 15,
   "id": "824972d5-98ea-4f1b-b825-3c6cef873f2e",
   "metadata": {},
   "outputs": [],
   "source": [
    "features = [\n",
    "    'Alarm_Count_24hr_max',\n",
    "    'Voltage_Phase_A_max',\n",
    "    'Power_Consumption_min',\n",
    "    'Nearby_Machine_Load_max',\n",
    "    'Energy_Efficiency_Index_max',\n",
    "    'Oil_Viscosity_max',\n",
    "    'RUL_max',\n",
    "    'Idle_Time_Duration_max',\n",
    "    'Component_Health_Score_max',\n",
    "    'Ventilation_Level_max',\n",
    "    'Peak_Vibration_min',\n",
    "    'Ambient_Temperature_max',\n",
    "    'Communication_Latency_max',\n",
    "    'Lighting_Condition_max',\n",
    "    'Data_Packet_Loss_Percent_max'\n",
    "]"
   ]
  },
  {
   "cell_type": "code",
   "execution_count": 16,
   "id": "a2c3887d-68a7-4d65-8d36-b1433365ffaf",
   "metadata": {},
   "outputs": [],
   "source": [
    "# ^ GEÇMİŞ 6 ZAMAN ADIMINDAN ÖZELLİK MATRİSİ OLUŞTURMA (SLIDING WINDOW) ^\n",
    "# Farklı pencere boyutları (örneğin 3, 6, 12) denenmiş; model performansı ve veri kaybı dengesi göz önünde bulundurularak\n",
    "# 6 zaman adımı (örneğin 72 saat) ile oluşturulan pencere boyutunun en uygun sonuçları verdiği gözlemlenmiştir.\n",
    "# Her bir pencere için geçmiş veriler tek satıra indirgenmiş, ilgili pencerenin hemen sonraki arıza durumu etiketlenmiştir."
   ]
  },
  {
   "cell_type": "code",
   "execution_count": 17,
   "id": "667163fa-ea2f-4843-a34d-3e45367d130a",
   "metadata": {},
   "outputs": [],
   "source": [
    "window_size = 6\n",
    "\n",
    "X_windows = []\n",
    "y_labels = []\n",
    "\n",
    "for machine_id, group in merged_df.groupby('Machine_Unique'):\n",
    "    group = group.sort_values('Hour')\n",
    "    values = group[features].values\n",
    "    labels = group['Failure_Occurrence'].values\n",
    "\n",
    "    for i in range(len(group) - window_size):\n",
    "        X_windows.append(values[i:i+window_size].flatten())\n",
    "        y_labels.append(labels[i + window_size])\n",
    "\n",
    "X_sliding = pd.DataFrame(X_windows)\n",
    "y_sliding = pd.Series(y_labels)"
   ]
  },
  {
   "cell_type": "code",
   "execution_count": 18,
   "id": "e31669b1-3eb2-4549-9ba0-16512141f8f4",
   "metadata": {},
   "outputs": [],
   "source": [
    "# ^ VERİYİ BÖLME ^"
   ]
  },
  {
   "cell_type": "code",
   "execution_count": 19,
   "id": "5fbee6e2-3020-4ca9-8854-48d979344fc9",
   "metadata": {},
   "outputs": [],
   "source": [
    "X_train, X_test, y_train, y_test = train_test_split(\n",
    "    X_sliding, y_sliding, test_size=0.2, stratify=y_sliding, random_state=50\n",
    ")"
   ]
  },
  {
   "cell_type": "code",
   "execution_count": 20,
   "id": "7183f352-b51a-47ee-bb91-3ac4da683b43",
   "metadata": {},
   "outputs": [],
   "source": [
    "# ^ SMOTE ^\n",
    "# Fail_Occurence=1 olan durumların az olduğu gözlemlendi ve veride dengesizlik olduğu anlaşıldı.\n",
    "# Bu yüzden SMOTE ile eğitim seti için sentetik veri oluşturuldu"
   ]
  },
  {
   "cell_type": "code",
   "execution_count": 21,
   "id": "7dc092cd-b7fe-4b5c-ba15-4a97dfc922c1",
   "metadata": {},
   "outputs": [],
   "source": [
    "smote = SMOTE(random_state=50)\n",
    "X_train_res, y_train_res = smote.fit_resample(X_train, y_train)"
   ]
  },
  {
   "cell_type": "code",
   "execution_count": 22,
   "id": "0c97b850-b78a-4b9b-ba84-8f880b8a1bb0",
   "metadata": {},
   "outputs": [],
   "source": [
    "# ^ THRESHOLD TUNING ^\n",
    "# Sınıflardaki dengesizlik nedeniyle modelin varsayılan 0.5 eşik değeri uygun olmayabilir.\n",
    "# Bu yüzden F1 skorunu maksimize eden en iyi eşik değeri bulunuyor."
   ]
  },
  {
   "cell_type": "code",
   "execution_count": 23,
   "id": "e52babb5-919f-416e-8fda-167ddd23d658",
   "metadata": {},
   "outputs": [],
   "source": [
    "def find_best_threshold(y_true, y_proba):\n",
    "    thresholds = np.linspace(0.1, 0.9, 81)\n",
    "    f1_scores = []\n",
    "    for thr in thresholds:\n",
    "        preds = (y_proba >= thr).astype(int)\n",
    "        f1_scores.append(f1_score(y_true, preds))\n",
    "    best_idx = np.argmax(f1_scores)\n",
    "    return thresholds[best_idx]"
   ]
  },
  {
   "cell_type": "code",
   "execution_count": 24,
   "id": "c2df979e-3061-4556-bc28-8c2392364f90",
   "metadata": {},
   "outputs": [],
   "source": [
    "# ^ RANDOM FOREST MODELİ TEST ^"
   ]
  },
  {
   "cell_type": "code",
   "execution_count": 25,
   "id": "0ef083c1-34ce-4a6c-9434-7d249323ab4f",
   "metadata": {},
   "outputs": [
    {
     "name": "stdout",
     "output_type": "stream",
     "text": [
      "\n",
      "Random Forest (Threshold = 0.41):\n",
      "[[1883  769]\n",
      " [ 548 2034]]\n",
      "              precision    recall  f1-score   support\n",
      "\n",
      "           0      0.775     0.710     0.741      2652\n",
      "           1      0.726     0.788     0.755      2582\n",
      "\n",
      "    accuracy                          0.748      5234\n",
      "   macro avg      0.750     0.749     0.748      5234\n",
      "weighted avg      0.750     0.748     0.748      5234\n",
      "\n"
     ]
    }
   ],
   "source": [
    "rf = joblib.load(\"models/rf_model_v1.joblib\")\n",
    "y_proba_rf = rf.predict_proba(X_test)[:, 1]\n",
    "rf_threshold = find_best_threshold(y_test, y_proba_rf)\n",
    "y_pred_rf_thresh = (y_proba_rf >= rf_threshold).astype(int)\n",
    "\n",
    "print(f\"\\nRandom Forest (Threshold = {rf_threshold:.2f}):\")\n",
    "print(confusion_matrix(y_test, y_pred_rf_thresh))\n",
    "print(classification_report(y_test, y_pred_rf_thresh, digits=3))"
   ]
  },
  {
   "cell_type": "code",
   "execution_count": 26,
   "id": "5631cf35-9520-4460-b27e-b7c2d20e0805",
   "metadata": {},
   "outputs": [],
   "source": [
    "# ^ XGBOOST MODELİ TEST ^"
   ]
  },
  {
   "cell_type": "code",
   "execution_count": 27,
   "id": "985a1f79-d902-4e64-abb9-de08c2873b74",
   "metadata": {},
   "outputs": [
    {
     "name": "stdout",
     "output_type": "stream",
     "text": [
      "\n",
      "XGBoost (Threshold = 0.40):\n",
      "[[1879  773]\n",
      " [ 556 2026]]\n",
      "              precision    recall  f1-score   support\n",
      "\n",
      "           0      0.772     0.709     0.739      2652\n",
      "           1      0.724     0.785     0.753      2582\n",
      "\n",
      "    accuracy                          0.746      5234\n",
      "   macro avg      0.748     0.747     0.746      5234\n",
      "weighted avg      0.748     0.746     0.746      5234\n",
      "\n"
     ]
    }
   ],
   "source": [
    "xgb = joblib.load(\"models/xgb_model_v1.joblib\")\n",
    "y_proba_xgb = xgb.predict_proba(X_test)[:, 1]\n",
    "xgb_threshold = find_best_threshold(y_test, y_proba_xgb)\n",
    "y_pred_xgb_thresh = (y_proba_xgb >= xgb_threshold).astype(int)\n",
    "\n",
    "print(f\"\\nXGBoost (Threshold = {xgb_threshold:.2f}):\")\n",
    "print(confusion_matrix(y_test, y_pred_xgb_thresh))\n",
    "print(classification_report(y_test, y_pred_xgb_thresh, digits=3))"
   ]
  },
  {
   "cell_type": "code",
   "execution_count": 28,
   "id": "f5fd9a8d-198c-4e59-8337-35ca3614f63f",
   "metadata": {},
   "outputs": [],
   "source": [
    "# ^ ENSEMBLE MODEL DENEMESİ (RANDOM FOREST+XGBOOST)"
   ]
  },
  {
   "cell_type": "code",
   "execution_count": 29,
   "id": "2fb6c28c-d2ab-42bf-a3a9-3352481ff642",
   "metadata": {},
   "outputs": [
    {
     "name": "stdout",
     "output_type": "stream",
     "text": [
      "\n",
      "ENSEMBLE (Mean of RF + XGB, Threshold = 0.41):\n",
      "[[1919  733]\n",
      " [ 576 2006]]\n",
      "              precision    recall  f1-score   support\n",
      "\n",
      "           0      0.769     0.724     0.746      2652\n",
      "           1      0.732     0.777     0.754      2582\n",
      "\n",
      "    accuracy                          0.750      5234\n",
      "   macro avg      0.751     0.750     0.750      5234\n",
      "weighted avg      0.751     0.750     0.750      5234\n",
      "\n"
     ]
    }
   ],
   "source": [
    "rf_model = joblib.load(\"models/rf_model_v1.joblib\")\n",
    "xgb_model = joblib.load(\"models/xgb_model_v1.joblib\")\n",
    "y_proba_rf = rf_model.predict_proba(X_test)[:, 1]\n",
    "y_proba_xgb = xgb_model.predict_proba(X_test)[:, 1]\n",
    "ensemble_proba = (y_proba_rf + y_proba_xgb) / 2\n",
    "\n",
    "ensemble_threshold = find_best_threshold(y_test, ensemble_proba)\n",
    "y_pred_ensemble = (ensemble_proba >= ensemble_threshold).astype(int)\n",
    "\n",
    "print(f\"\\nENSEMBLE (Mean of RF + XGB, Threshold = {ensemble_threshold:.2f}):\")\n",
    "print(confusion_matrix(y_test, y_pred_ensemble))\n",
    "print(classification_report(y_test, y_pred_ensemble, digits=3))"
   ]
  },
  {
   "cell_type": "code",
   "execution_count": 30,
   "id": "62493920-9522-4623-9204-385370da42ef",
   "metadata": {},
   "outputs": [],
   "source": [
    "# ^ MLP MODELİ TEST ^"
   ]
  },
  {
   "cell_type": "code",
   "execution_count": 31,
   "id": "24a60d5f-c3e8-4d84-8eaf-4822a6fe5f42",
   "metadata": {},
   "outputs": [
    {
     "name": "stdout",
     "output_type": "stream",
     "text": [
      "\n",
      "MLP (Scaled + Deep, Threshold = 0.36):\n",
      "[[1744  908]\n",
      " [ 473 2109]]\n",
      "              precision    recall  f1-score   support\n",
      "\n",
      "           0      0.787     0.658     0.716      2652\n",
      "           1      0.699     0.817     0.753      2582\n",
      "\n",
      "    accuracy                          0.736      5234\n",
      "   macro avg      0.743     0.737     0.735      5234\n",
      "weighted avg      0.743     0.736     0.735      5234\n",
      "\n"
     ]
    }
   ],
   "source": [
    "mlp = joblib.load('models/mlp_model.joblib')\n",
    "scaler = joblib.load('models/scaler.joblib')\n",
    "X_test_scaled = scaler.transform(X_test)  \n",
    "y_proba_mlp = mlp.predict_proba(X_test_scaled)[:, 1]\n",
    "mlp_threshold = find_best_threshold(y_test, y_proba_mlp)\n",
    "y_pred_mlp_thresh = (y_proba_mlp >= mlp_threshold).astype(int)\n",
    "\n",
    "print(f\"\\nMLP (Scaled + Deep, Threshold = {mlp_threshold:.2f}):\")\n",
    "print(confusion_matrix(y_test, y_pred_mlp_thresh))\n",
    "print(classification_report(y_test, y_pred_mlp_thresh, digits=3))"
   ]
  },
  {
   "cell_type": "code",
   "execution_count": 32,
   "id": "c61eeeda-8f37-46bd-ac58-84403d6dd706",
   "metadata": {},
   "outputs": [],
   "source": [
    "# ^ ENSEMBLE MODEL DENEMESİ (RANDOM FOREST+XGBOOST+MLP)"
   ]
  },
  {
   "cell_type": "code",
   "execution_count": 33,
   "id": "09cc1ead-fa57-464a-a819-33416a17e027",
   "metadata": {},
   "outputs": [
    {
     "name": "stdout",
     "output_type": "stream",
     "text": [
      "\n",
      "ENSEMBLE (RF + XGB + MLP):\n",
      "[[1938  714]\n",
      " [ 585 1997]]\n",
      "              precision    recall  f1-score   support\n",
      "\n",
      "           0      0.768     0.731     0.749      2652\n",
      "           1      0.737     0.773     0.755      2582\n",
      "\n",
      "    accuracy                          0.752      5234\n",
      "   macro avg      0.752     0.752     0.752      5234\n",
      "weighted avg      0.753     0.752     0.752      5234\n",
      "\n"
     ]
    }
   ],
   "source": [
    "rf_model = joblib.load(\"models/rf_model_v1.joblib\")\n",
    "xgb_model = joblib.load(\"models/xgb_model_v1.joblib\")\n",
    "mlp_model = joblib.load('models/mlp_model.joblib')\n",
    "\n",
    "y_proba_rf = rf_model.predict_proba(X_test)[:, 1]\n",
    "y_proba_xgb = xgb_model.predict_proba(X_test)[:, 1]\n",
    "y_proba_mlp = mlp_model.predict_proba(X_test)[:, 1]\n",
    "\n",
    "ensemble_proba_3 = (y_proba_rf + y_proba_xgb + y_proba_mlp) / 3\n",
    "ensemble_threshold_3 = find_best_threshold(y_test, ensemble_proba_3)\n",
    "y_pred_ensemble_3 = (ensemble_proba_3 >= ensemble_threshold_3).astype(int)\n",
    "print(f\"\\nENSEMBLE (RF + XGB + MLP):\")\n",
    "print(confusion_matrix(y_test, y_pred_ensemble_3))\n",
    "print(classification_report(y_test, y_pred_ensemble_3, digits=3))  \n"
   ]
  }
 ],
 "metadata": {
  "kernelspec": {
   "display_name": "Python 3 (ipykernel)",
   "language": "python",
   "name": "python3"
  },
  "language_info": {
   "codemirror_mode": {
    "name": "ipython",
    "version": 3
   },
   "file_extension": ".py",
   "mimetype": "text/x-python",
   "name": "python",
   "nbconvert_exporter": "python",
   "pygments_lexer": "ipython3",
   "version": "3.11.5"
  }
 },
 "nbformat": 4,
 "nbformat_minor": 5
}
